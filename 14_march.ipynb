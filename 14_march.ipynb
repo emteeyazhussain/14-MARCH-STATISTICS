{
 "cells": [
  {
   "cell_type": "raw",
   "id": "724b9545-d00b-45c9-a3f4-534a9de68f07",
   "metadata": {},
   "source": [
    "Q1. Write a Python function that takes in two arrays of data and calculates the F-value for a variance ratio\n",
    "test. The function should return the F-value and the corresponding p-value for the test."
   ]
  },
  {
   "cell_type": "code",
   "execution_count": 23,
   "id": "4489b85f-e6b0-4856-89a4-f01cff442fc8",
   "metadata": {},
   "outputs": [],
   "source": [
    "import numpy as np\n",
    "from scipy.stats import f\n",
    "\n",
    "def variance_ratio_test(x, y):\n",
    "    \"\"\"\n",
    "    Calculates the F-value and p-value for a variance ratio test given two arrays of data x and y.\n",
    "\n",
    "    Parameters:\n",
    "    x (array): First array of data.\n",
    "    y (array): Second array of data.\n",
    "\n",
    "    Returns:\n",
    "    F-value (float): F-value of the variance ratio test.\n",
    "    p-value (float): p-value of the variance ratio test.\n",
    "    \"\"\"\n",
    "\n",
    "    # Calculate the ratio of the variances\n",
    "    var_ratio = np.var(x) / np.var(y)\n",
    "\n",
    "    # Calculate the degrees of freedom\n",
    "    df1 = len(x) - 1\n",
    "    df2 = len(y) - 1\n",
    "\n",
    "    # Calculate the F-value and p-value\n",
    "    F = var_ratio / f.ppf(0.975, df1, df2)\n",
    "    p = f.sf(F, df1, df2)\n",
    "\n",
    "    return F, p\n"
   ]
  },
  {
   "cell_type": "code",
   "execution_count": 24,
   "id": "cb0c2b87-f94e-426a-9cb3-b89580b5da51",
   "metadata": {},
   "outputs": [
    {
     "name": "stdout",
     "output_type": "stream",
     "text": [
      "F-value: 0.026029384363481917\n",
      "p-value: 0.9981018892979165\n"
     ]
    }
   ],
   "source": [
    "x = np.array([1, 2, 3, 4, 5])\n",
    "y = np.array([2, 4, 6, 8, 10])\n",
    "\n",
    "F, p = variance_ratio_test(x, y)\n",
    "\n",
    "print(\"F-value:\", F)\n",
    "print(\"p-value:\", p)\n"
   ]
  },
  {
   "cell_type": "raw",
   "id": "aa36fcf5-3cf2-4966-9c3f-b7e7d26da19a",
   "metadata": {},
   "source": [
    "Q2. Given a significance level of 0.05 and the degrees of freedom for the numerator and denominator of an\n",
    "F-distribution, write a Python function that returns the critical F-value for a two-tailed test."
   ]
  },
  {
   "cell_type": "code",
   "execution_count": 25,
   "id": "b13cbe8d-5e67-4ca7-8ce7-d394f8f80d16",
   "metadata": {},
   "outputs": [],
   "source": [
    "from scipy.stats import f\n",
    "\n",
    "def critical_f_value(alpha, df1, df2):\n",
    "    \"\"\"\n",
    "    Calculates the critical F-value for a two-tailed test given a significance level alpha and the degrees of\n",
    "    freedom for the numerator and denominator of an F-distribution.\n",
    "\n",
    "    Parameters:\n",
    "    alpha (float): Significance level.\n",
    "    df1 (int): Degrees of freedom for the numerator.\n",
    "    df2 (int): Degrees of freedom for the denominator.\n",
    "\n",
    "    Returns:\n",
    "    critical_f (float): Critical F-value for a two-tailed test.\n",
    "    \"\"\"\n",
    "\n",
    "    # Calculate the critical F-value\n",
    "    critical_f = f.ppf(1 - alpha/2, df1, df2)\n",
    "\n",
    "    return critical_f\n"
   ]
  },
  {
   "cell_type": "code",
   "execution_count": 26,
   "id": "bfb95e8e-66cc-4c0b-b04e-6f49f925ecdd",
   "metadata": {},
   "outputs": [
    {
     "name": "stdout",
     "output_type": "stream",
     "text": [
      "Critical F-value: 3.8586986662732143\n"
     ]
    }
   ],
   "source": [
    "alpha = 0.05\n",
    "df1 = 3\n",
    "df2 = 20\n",
    "\n",
    "critical_f = critical_f_value(alpha, df1, df2)\n",
    "\n",
    "print(\"Critical F-value:\", critical_f)\n"
   ]
  },
  {
   "cell_type": "code",
   "execution_count": 27,
   "id": "fc9979f8-ca30-4b7a-9068-2b2548d9353d",
   "metadata": {},
   "outputs": [
    {
     "name": "stdout",
     "output_type": "stream",
     "text": [
      "We fail to reject the null hypothesis that the variances are equal.\n",
      "F-value: 0.4738830174368626\n",
      "Degrees of freedom: 19 , 19\n",
      "p-value: 0.9439109749004146\n"
     ]
    }
   ],
   "source": [
    "# Q3.\n",
    "import numpy as np\n",
    "from scipy.stats import f\n",
    "\n",
    "# Set the parameters for the distributions\n",
    "mu1, mu2 = 0, 0\n",
    "var1, var2 = 4, 4\n",
    "n1, n2 = 20, 20\n",
    "\n",
    "# Generate random samples from the two distributions\n",
    "x = np.random.normal(mu1, np.sqrt(var1), n1)\n",
    "y = np.random.normal(mu2, np.sqrt(var2), n2)\n",
    "\n",
    "# Perform the F-test\n",
    "var_ratio = np.var(x) / np.var(y)\n",
    "df1 = n1 - 1\n",
    "df2 = n2 - 1\n",
    "F = var_ratio / f.ppf(0.975, df1, df2)\n",
    "p = f.sf(F, df1, df2)\n",
    "\n",
    "# Determine if we reject or fail to reject the null hypothesis\n",
    "alpha = 0.05\n",
    "if p < alpha:\n",
    "    print(\"We reject the null hypothesis that the variances are equal.\")\n",
    "else:\n",
    "    print(\"We fail to reject the null hypothesis that the variances are equal.\")\n",
    "\n",
    "# Print the results\n",
    "print(\"F-value:\", F)\n",
    "print(\"Degrees of freedom:\", df1, \",\", df2)\n",
    "print(\"p-value:\", p)\n"
   ]
  },
  {
   "cell_type": "raw",
   "id": "00b01faa-e3fd-4e11-a9c3-b3ff35632f8e",
   "metadata": {},
   "source": [
    "Q4.To conduct an F-test to determine if the variances of two populations are significantly different, we can follow these steps:\n",
    "\n",
    "State the null and alternative hypotheses. In this case, our null hypothesis is that the variances of the two populations are equal (σ1^2 = σ2^2), and our alternative hypothesis is that they are not equal (σ1^2 ≠ σ2^2).\n",
    "\n",
    "Choose a significance level (α). In this case, α = 0.05.\n",
    "\n",
    "Calculate the test statistic, which is the ratio of the sample variances (s1^2/s2^2).\n",
    "\n",
    "Calculate the critical F-value using the degrees of freedom for the numerator (n1 - 1) and denominator (n2 - 1) of the F-distribution and the chosen significance level.\n",
    "\n",
    "Compare the test statistic to the critical F-value. If the test statistic is greater than the critical F-value, reject the null hypothesis; otherwise, fail to reject the null hypothesis.\n",
    "\n",
    "Let's apply these steps to the given problem:\n",
    "\n",
    "Null hypothesis: σ1^2 = σ2^2. Alternative hypothesis: σ1^2 ≠ σ2^2.\n",
    "\n",
    "Significance level: α = 0.05.\n",
    "\n",
    "Test statistic: F = s1^2/s2^2, where s1^2 and s2^2 are the sample variances. From the problem statement, we know that s1^2 = 10 and s2^2 = 15, so F = 10/15 = 0.67.\n",
    "\n",
    "Critical F-value: We have 12 observations from each population, so the degrees of freedom for the numerator and denominator are both 11. Using a table or a calculator, we can find the critical F-value with α/2 = 0.025 and degrees of freedom (11, 11) to be approximately 2.72.\n",
    "\n",
    "Since the test statistic (F = 0.67) is less than the critical F-value (2.72), we fail to reject the null hypothesis. Therefore, we do not have sufficient evidence to conclude that the variances of the two populations are significantly different at the 5% significance level.\n",
    "\n",
    "In conclusion, based on the F-test, we cannot reject the null hypothesis that the variances of the two populations are equal at the 5% significance level."
   ]
  },
  {
   "cell_type": "raw",
   "id": "fc99577a-2486-4aba-aef6-bbe00a3d3eeb",
   "metadata": {},
   "source": [
    "Q5.To conduct the F-test, we need to set up the null and alternative hypotheses.\n",
    "\n",
    "Null Hypothesis: The variance of the diameter of the product is 0.005.\n",
    "\n",
    "Alternative Hypothesis: The variance of the diameter of the product is not 0.005.\n",
    "\n",
    "We will use the F-test formula:\n",
    "\n",
    "F = Sample Variance / Population Variance\n",
    "\n",
    "Where,\n",
    "\n",
    "Sample Variance = 0.006\n",
    "\n",
    "Population Variance = 0.005\n",
    "\n",
    "Sample size = 25\n",
    "\n",
    "Substituting the values, we get:\n",
    "\n",
    "F = 0.006 / 0.005\n",
    "\n",
    "F = 1.2\n",
    "\n",
    "The critical value of F at the 1% significance level with 24 and infinite degrees of freedom (df) is 5.32 (using F distribution table).\n",
    "\n",
    "Since our calculated F value (1.2) is less than the critical value of F (5.32), we fail to reject the null hypothesis.\n",
    "\n",
    "Therefore, we can conclude that there is not enough evidence to support the manufacturer's claim that the variance of the diameter of the product is 0.005."
   ]
  },
  {
   "cell_type": "code",
   "execution_count": 1,
   "id": "46dd62e6-ece0-429a-a87e-66773b6b2ecf",
   "metadata": {},
   "outputs": [],
   "source": [
    "# Q6.\n",
    "from scipy import stats\n",
    "\n",
    "def f_dist_mean_var(dfnum, dfdenom):\n",
    "    '''\n",
    "    Calculate the mean and variance of an F-distribution given the degrees of freedom for the numerator and denominator.\n",
    "    \n",
    "    Parameters:\n",
    "        dfnum (int): degrees of freedom for the numerator\n",
    "        dfdenom (int): degrees of freedom for the denominator\n",
    "        \n",
    "    Returns:\n",
    "        tuple: a tuple containing the mean and variance of the F-distribution\n",
    "    '''\n",
    "    mean = dfdenom / (dfdenom - 2)\n",
    "    variance = (2 * (dfdenom**2) * (dfnum + dfdenom - 2)) / ((dfnum * (dfdenom - 2)**2 * (dfdenom - 4)))\n",
    "    \n",
    "    return mean, variance\n"
   ]
  },
  {
   "cell_type": "code",
   "execution_count": 2,
   "id": "4307dc4a-c0d8-4934-89be-3461b94e43a1",
   "metadata": {},
   "outputs": [
    {
     "name": "stdout",
     "output_type": "stream",
     "text": [
      "Mean: 1.1111111111111112\n",
      "Variance: 0.7098765432098766\n"
     ]
    }
   ],
   "source": [
    "mean, var = f_dist_mean_var(5, 20)\n",
    "print(\"Mean:\", mean)\n",
    "print(\"Variance:\", var)\n"
   ]
  },
  {
   "cell_type": "raw",
   "id": "fa9fbb9b-7eb8-4736-b7e4-d1e84d26c4db",
   "metadata": {},
   "source": [
    "Q7. To conduct an F-test to determine if the variances of two populations are significantly different, we need to set up the null and alternative hypotheses:\n",
    "\n",
    "Null Hypothesis: The variances of the two populations are equal.\n",
    "Alternative Hypothesis: The variances of the two populations are not equal.\n",
    "\n",
    "We can use the F-test formula:\n",
    "\n",
    "F = Sample Variance 1 / Sample Variance 2\n",
    "\n",
    "Where,\n",
    "Sample Variance 1 = 25\n",
    "Sample Variance 2 = 20\n",
    "Sample size 1 = 10\n",
    "Sample size 2 = 15\n",
    "\n",
    "Substituting the values, we get:\n",
    "\n",
    "F = 25 / 20\n",
    "F = 1.25\n",
    "\n",
    "The critical value of F at the 10% significance level with 9 and 14 degrees of freedom (df) is 2.36 (using F distribution table).\n",
    "\n",
    "Since our calculated F value (1.25) is less than the critical value of F (2.36), we fail to reject the null hypothesis.\n",
    "\n",
    "Therefore, we can conclude that there is not enough evidence to support the claim that the variances of the two populations are significantly different at the 10% significance level."
   ]
  },
  {
   "cell_type": "raw",
   "id": "f473598c-e1d7-46d5-a234-2c9550354835",
   "metadata": {},
   "source": [
    "Q8. To conduct an F-test to determine if the variances of two populations are significantly different, we need to set up the null and alternative hypotheses:\n",
    "\n",
    "Null Hypothesis: The variances of the two populations are equal.\n",
    "Alternative Hypothesis: The variances of the two populations are not equal.\n",
    "\n",
    "We can use the F-test formula:\n",
    "\n",
    "F = Sample Variance 1 / Sample Variance 2\n",
    "\n",
    "Where,\n",
    "Sample Variance 1 = 11.90\n",
    "Sample Variance 2 = 8.00\n",
    "Sample size 1 = 7\n",
    "Sample size 2 = 6\n",
    "\n",
    "Substituting the values, we get:\n",
    "\n",
    "F = 11.90 / 8.00\n",
    "F = 1.49\n",
    "\n",
    "The critical value of F at the 5% significance level with 6 and 5 degrees of freedom (df) is 4.39 (using F distribution table).\n",
    "\n",
    "Since our calculated F value (1.49) is less than the critical value of F (4.39), we fail to reject the null hypothesis.\n",
    "\n",
    "Therefore, we can conclude that there is not enough evidence to support the claim that the variances of the waiting times at the two restaurants are significantly different at the 5% significance level."
   ]
  },
  {
   "cell_type": "raw",
   "id": "6127f70f-c4bd-4930-b78e-3d270fbe102d",
   "metadata": {},
   "source": [
    "Q9. To conduct an F-test to determine if the variances of two populations are significantly different, we need to set up the null and alternative hypotheses:\n",
    "\n",
    "Null Hypothesis: The variances of the two populations are equal.\n",
    "Alternative Hypothesis: The variances of the two populations are not equal.\n",
    "\n",
    "We can use the F-test formula:\n",
    "\n",
    "F = Sample Variance 1 / Sample Variance 2\n",
    "\n",
    "Where,\n",
    "Sample Variance 1 = 20.30\n",
    "Sample Variance 2 = 6.47\n",
    "Sample size 1 = 6\n",
    "Sample size 2 = 6\n",
    "\n",
    "Substituting the values, we get:\n",
    "\n",
    "F = 20.30 / 6.47\n",
    "F = 3.14\n",
    "\n",
    "The critical value of F at the 1% significance level with 5 and 5 degrees of freedom (df) is 6.61 (using F distribution table).\n",
    "\n",
    "Since our calculated F value (3.14) is less than the critical value of F (6.61), we fail to reject the null hypothesis.\n",
    "\n",
    "Therefore, we can conclude that there is not enough evidence to support the claim that the variances of the test scores of the two groups of students are significantly different at the 1% significance level."
   ]
  },
  {
   "cell_type": "code",
   "execution_count": null,
   "id": "7d6330c8-d021-4dc5-84cb-8ad7c82a3f97",
   "metadata": {},
   "outputs": [],
   "source": []
  }
 ],
 "metadata": {
  "kernelspec": {
   "display_name": "Python 3 (ipykernel)",
   "language": "python",
   "name": "python3"
  },
  "language_info": {
   "codemirror_mode": {
    "name": "ipython",
    "version": 3
   },
   "file_extension": ".py",
   "mimetype": "text/x-python",
   "name": "python",
   "nbconvert_exporter": "python",
   "pygments_lexer": "ipython3",
   "version": "3.10.8"
  }
 },
 "nbformat": 4,
 "nbformat_minor": 5
}
